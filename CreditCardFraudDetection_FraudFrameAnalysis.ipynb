{
 "cells": [
  {
   "cell_type": "markdown",
   "metadata": {},
   "source": [
    "# Importando Bibliotecas"
   ]
  },
  {
   "cell_type": "code",
   "execution_count": null,
   "metadata": {},
   "outputs": [],
   "source": [
    "import pandas as pd\n",
    "import numpy as np\n",
    "import plotly.express as px\n",
    "import matplotlib.pyplot as plt\n",
    "from sklearn.cluster import KMeans\n",
    "from sklearn.decomposition import PCA\n",
    "from pandas import DataFrame as df\n",
    "from scipy.stats import zscore\n",
    "import seaborn as sns\n",
    "import re\n",
    "import os\n",
    "\n",
    "from ydata_profiling import ProfileReport\n",
    "import sweetviz as sv"
   ]
  },
  {
   "cell_type": "markdown",
   "metadata": {},
   "source": [
    "# Carregando e inspecionando dados"
   ]
  },
  {
   "cell_type": "code",
   "execution_count": null,
   "metadata": {},
   "outputs": [],
   "source": [
    "main_dataframe = pd.read_csv(\n",
    "  \"./data/card_transdata.csv\", \n",
    "  na_values=[' ', '_', '_______'], # substituir com NaN do dataset\n",
    "  low_memory=False\n",
    ")"
   ]
  },
  {
   "cell_type": "markdown",
   "metadata": {},
   "source": [
    "# Mostrando as primeiras 5 linhas do Dataframe Original"
   ]
  },
  {
   "cell_type": "code",
   "execution_count": null,
   "metadata": {},
   "outputs": [],
   "source": [
    "main_dataframe.head()"
   ]
  },
  {
   "cell_type": "markdown",
   "metadata": {},
   "source": [
    "# Mostrando o formato do Dataframe Original\n"
   ]
  },
  {
   "cell_type": "code",
   "execution_count": null,
   "metadata": {},
   "outputs": [],
   "source": [
    "# número de colunas\n",
    "print(f'columns: {main_dataframe.shape[1]}')\n",
    "\n",
    "# número de linhas\n",
    "print(f'rows: {main_dataframe.shape[0]}')"
   ]
  },
  {
   "cell_type": "markdown",
   "metadata": {},
   "source": [
    "# Obtendo informações sobre cada variável do dataframe original"
   ]
  },
  {
   "cell_type": "code",
   "execution_count": null,
   "metadata": {},
   "outputs": [],
   "source": [
    "main_dataframe.info()"
   ]
  },
  {
   "cell_type": "markdown",
   "metadata": {},
   "source": [
    "# Remoção dos valores FRAUDES != True"
   ]
  },
  {
   "cell_type": "code",
   "execution_count": null,
   "metadata": {},
   "outputs": [],
   "source": [
    "# Remover todas as linhas onde 'fraud' é igual a 0\n",
    "fraud_dataframe = main_dataframe[main_dataframe['fraud'] != 0]\n",
    "\n",
    "# Redefinir o índice do DataFrame\n",
    "fraud_dataframe.reset_index(drop=True, inplace=True)\n",
    "fraud_dataframe = fraud_dataframe.drop('fraud', axis=1) # Remover a coluna 'fraud'"
   ]
  },
  {
   "cell_type": "markdown",
   "metadata": {},
   "source": [
    "# Apresentando o Novo Dataframe SOMENTE com FRAUDES == True"
   ]
  },
  {
   "cell_type": "code",
   "execution_count": null,
   "metadata": {},
   "outputs": [],
   "source": [
    "fraud_dataframe"
   ]
  },
  {
   "cell_type": "markdown",
   "metadata": {},
   "source": [
    "# Mostra as primeiras 5 linhas do Novo Dataframe SOMENTE com FRAUDES == True"
   ]
  },
  {
   "cell_type": "code",
   "execution_count": null,
   "metadata": {},
   "outputs": [],
   "source": [
    "fraud_dataframe.head()"
   ]
  },
  {
   "cell_type": "markdown",
   "metadata": {},
   "source": [
    "# Obtendo informações sobre cada variável do Novo Dataframe SOMENTE com FRAUDES == True"
   ]
  },
  {
   "cell_type": "code",
   "execution_count": null,
   "metadata": {},
   "outputs": [],
   "source": [
    "fraud_dataframe.info()"
   ]
  },
  {
   "cell_type": "markdown",
   "metadata": {},
   "source": [
    "# Mostrando o formato do Novo Dataframe SOMENTE com FRAUDES == True"
   ]
  },
  {
   "cell_type": "code",
   "execution_count": null,
   "metadata": {},
   "outputs": [],
   "source": [
    "# número de colunas\n",
    "print(f'columns: {fraud_dataframe.shape[1]}')\n",
    "\n",
    "# número de linhas\n",
    "print(f'rows: {fraud_dataframe.shape[0]}')"
   ]
  },
  {
   "cell_type": "markdown",
   "metadata": {},
   "source": [
    "# Limpeza de dados"
   ]
  },
  {
   "cell_type": "markdown",
   "metadata": {},
   "source": [
    "### 1. Valores ausentes"
   ]
  },
  {
   "cell_type": "code",
   "execution_count": null,
   "metadata": {},
   "outputs": [],
   "source": [
    "# Verifique a soma dos valores ausentes para cada coluna\n",
    "fraud_dataframe.isnull().sum()"
   ]
  },
  {
   "cell_type": "markdown",
   "metadata": {},
   "source": [
    "### 2. Valores duplicados"
   ]
  },
  {
   "cell_type": "code",
   "execution_count": null,
   "metadata": {},
   "outputs": [],
   "source": [
    "# Verifique a soma das linhas duplicadas\n",
    "print(f'duplicate rows: {fraud_dataframe.duplicated().sum()}')"
   ]
  },
  {
   "cell_type": "markdown",
   "metadata": {},
   "source": [
    "# Algumas informações estatísticas"
   ]
  },
  {
   "cell_type": "code",
   "execution_count": null,
   "metadata": {},
   "outputs": [],
   "source": [
    "# Criando uma tabela de estatísticas descritivas para dados\n",
    "fraud_dataframe.describe().T"
   ]
  },
  {
   "cell_type": "markdown",
   "metadata": {},
   "source": [
    "# Análise Exploratória dos Dados (EDA)"
   ]
  },
  {
   "cell_type": "markdown",
   "metadata": {},
   "source": [
    "## Recursos Categóricos"
   ]
  },
  {
   "cell_type": "markdown",
   "metadata": {},
   "source": [
    "### Distribuição de Compras em Lojas Repetidas"
   ]
  },
  {
   "cell_type": "code",
   "execution_count": null,
   "metadata": {},
   "outputs": [],
   "source": [
    "# Contagem de valores únicos na coluna 'repeat_retailer'\n",
    "repeat_retailer_count = fraud_dataframe['repeat_retailer'].value_counts()\n",
    "repeat_retailer_count"
   ]
  },
  {
   "cell_type": "code",
   "execution_count": null,
   "metadata": {},
   "outputs": [],
   "source": [
    "# Configurando o estilo do Seaborn\n",
    "sns.set(style=\"whitegrid\")\n",
    "\n",
    "# Plotagem do gráfico de torta apenas para 'repeat_retailer' \n",
    "plt.figure(figsize=(6, 6))\n",
    "plt.pie(repeat_retailer_count.values, labels=repeat_retailer_count.index, autopct='%1.1f%%')\n",
    "plt.title('Distribuição das Compras em Lojas Repetidadas')\n",
    "\n",
    "# Adicionando legendas\n",
    "legend_labels = ['1 == Repetidas', '0 == Não Repetidas']\n",
    "plt.legend(legend_labels, loc='lower right')\n",
    "\n",
    "plt.show()"
   ]
  },
  {
   "cell_type": "markdown",
   "metadata": {},
   "source": [
    "### Distribuição de Compras com Uso do Chip"
   ]
  },
  {
   "cell_type": "code",
   "execution_count": null,
   "metadata": {},
   "outputs": [],
   "source": [
    "# Contagem de valores únicos na coluna 'used_chip'\n",
    "used_chip_count = fraud_dataframe['used_chip'].value_counts()\n",
    "used_chip_count"
   ]
  },
  {
   "cell_type": "code",
   "execution_count": null,
   "metadata": {},
   "outputs": [],
   "source": [
    "# Configurando o estilo do Seaborn\n",
    "sns.set(style=\"whitegrid\")\n",
    "\n",
    "# Plotagem do gráfico de torta apenas para 'used_chip' \n",
    "plt.figure(figsize=(6, 6))\n",
    "plt.pie(used_chip_count.values, labels=used_chip_count.index, autopct='%1.1f%%')\n",
    "plt.title('Distribuição das Compras com Uso do Chip do Cartão')\n",
    "\n",
    "# Adicionando legendas\n",
    "legend_labels = ['0 == Sem chip', '1 == Com chip']\n",
    "plt.legend(legend_labels, loc='lower right')\n",
    "\n",
    "plt.show()"
   ]
  },
  {
   "cell_type": "markdown",
   "metadata": {},
   "source": [
    "### Distribuição de Compras com Uso da Senha"
   ]
  },
  {
   "cell_type": "code",
   "execution_count": null,
   "metadata": {},
   "outputs": [],
   "source": [
    "# Contagem de valores únicos na coluna 'used_pin_number'\n",
    "used_pin_number_count = fraud_dataframe['used_pin_number'].value_counts()\n",
    "used_pin_number_count"
   ]
  },
  {
   "cell_type": "code",
   "execution_count": null,
   "metadata": {},
   "outputs": [],
   "source": [
    "# Configurando o estilo do Seaborn\n",
    "sns.set(style=\"whitegrid\")\n",
    "\n",
    "# Plotagem do gráfico de torta apenas para 'used_pin_number_count' \n",
    "plt.figure(figsize=(6, 6))\n",
    "plt.pie(used_pin_number_count.values, labels=used_pin_number_count.index, autopct='%1.1f%%')\n",
    "plt.title('Distribuição das Compras com Uso da Senha')\n",
    "\n",
    "# Adicionando legendas\n",
    "legend_labels = ['0 == Sem Senha', '1 == Com Senha']\n",
    "plt.legend(legend_labels, loc='lower right')\n",
    "\n",
    "plt.show()"
   ]
  },
  {
   "cell_type": "markdown",
   "metadata": {},
   "source": [
    "### Distribuição de Compras Onlines"
   ]
  },
  {
   "cell_type": "code",
   "execution_count": null,
   "metadata": {},
   "outputs": [],
   "source": [
    "# Contagem de valores únicos na coluna 'online_order'\n",
    "online_order_count = fraud_dataframe['online_order'].value_counts()\n",
    "online_order_count"
   ]
  },
  {
   "cell_type": "code",
   "execution_count": null,
   "metadata": {},
   "outputs": [],
   "source": [
    "# Configurando o estilo do Seaborn\n",
    "sns.set(style=\"whitegrid\")\n",
    "\n",
    "# Plotagem do gráfico de torta apenas para 'online_order_count' \n",
    "plt.figure(figsize=(6, 6))\n",
    "plt.pie(online_order_count.values, labels=online_order_count.index, autopct='%1.1f%%')\n",
    "plt.title('Distribuição das compras em Lojas (Físicas e Onlines) ')\n",
    "\n",
    "# Adicionando legendas\n",
    "legend_labels = ['1 == Loja Online', '0 == Loja Física']\n",
    "plt.legend(legend_labels, loc='lower right')\n",
    "\n",
    "plt.show()"
   ]
  },
  {
   "cell_type": "markdown",
   "metadata": {},
   "source": [
    "### Distribuição de todas colunas categóricas"
   ]
  },
  {
   "cell_type": "code",
   "execution_count": null,
   "metadata": {},
   "outputs": [],
   "source": [
    "# Crie uma lista contendo recursos categóricos\n",
    "category_features = ['repeat_retailer', 'used_chip','used_pin_number', 'online_order']"
   ]
  },
  {
   "cell_type": "code",
   "execution_count": null,
   "metadata": {},
   "outputs": [],
   "source": [
    "# Configurando o estilo do Seaborn\n",
    "sns.set(style=\"whitegrid\")\n",
    "\n",
    "# Desenhando um gráfico de pizza para exibir a distribuição de cada coluna categórica\n",
    "plt.figure(figsize = (16, 12))\n",
    "for i, col in enumerate(category_features):\n",
    "    plt.subplot(1, 4, i+1)\n",
    "    plt.pie(x = fraud_dataframe[col].value_counts().values, \n",
    "            labels = fraud_dataframe[col].value_counts().index, \n",
    "            autopct = '%1.1f%%')\n",
    "    plt.xlabel(col, weight = 'bold')\n",
    "plt.show()"
   ]
  },
  {
   "cell_type": "markdown",
   "metadata": {},
   "source": [
    "## Recursos Numéricos"
   ]
  },
  {
   "cell_type": "markdown",
   "metadata": {},
   "source": [
    "### Distribuição das Distâncias de Casa"
   ]
  },
  {
   "cell_type": "code",
   "execution_count": null,
   "metadata": {},
   "outputs": [],
   "source": [
    "# Configurando o estilo do Seaborn\n",
    "sns.set(style=\"whitegrid\")\n",
    "\n",
    "# Plotagem do boxplot para 'distance_from_home'\n",
    "plt.figure(figsize=(8, 6))\n",
    "sns.boxplot(data=fraud_dataframe, y='distance_from_home', color='skyblue')\n",
    "plt.title('Boxplot da Distância de Casa')\n",
    "plt.ylabel('Distância de Casa')\n",
    "\n",
    "plt.show()"
   ]
  },
  {
   "cell_type": "markdown",
   "metadata": {},
   "source": [
    "### Distribuição das Distâncias da Última da Transação"
   ]
  },
  {
   "cell_type": "code",
   "execution_count": null,
   "metadata": {},
   "outputs": [],
   "source": [
    "# Configurando o estilo do Seaborn\n",
    "sns.set(style=\"whitegrid\")\n",
    "\n",
    "# Plotagem do boxplot para 'distance_from_last_transaction'\n",
    "plt.figure(figsize=(8, 6))\n",
    "sns.boxplot(data=fraud_dataframe, y='distance_from_last_transaction', color='skyblue')\n",
    "plt.title('Boxplot da Distância da Última Transação')\n",
    "plt.ylabel('Distância da Última Transação')\n",
    "\n",
    "plt.show()"
   ]
  },
  {
   "cell_type": "markdown",
   "metadata": {},
   "source": [
    "### Distribuição da Proporção entre a transação do preço de compra e o preço de compra médio"
   ]
  },
  {
   "cell_type": "code",
   "execution_count": null,
   "metadata": {},
   "outputs": [],
   "source": [
    "# Configurando o estilo do Seaborn\n",
    "sns.set(style=\"whitegrid\")\n",
    "\n",
    "# Plotagem do boxplot para 'ratio_to_median_purchase_price'\n",
    "plt.figure(figsize=(10, 8))\n",
    "sns.boxplot(data=fraud_dataframe, y='ratio_to_median_purchase_price', color='skyblue')\n",
    "plt.title('Boxplot da Proporção entre a transação do preço de compra e o preço de compra médio.')\n",
    "plt.ylabel('Proporção entre a transação do preço de compra e o preço de compra médio.')\n",
    "\n",
    "plt.show()"
   ]
  },
  {
   "cell_type": "code",
   "execution_count": null,
   "metadata": {},
   "outputs": [],
   "source": [
    "# Crie uma lista contendo recursos numéricos\n",
    "num_features = ['distance_from_home', 'distance_from_last_transaction', 'ratio_to_median_purchase_price']"
   ]
  },
  {
   "cell_type": "code",
   "execution_count": null,
   "metadata": {},
   "outputs": [],
   "source": [
    "# Drawing a boxplot to display the distribution of each numerical column to detect the outliers\n",
    "plt.figure(figsize = (18, 4))\n",
    "for i, col in enumerate(num_features):\n",
    "    plt.subplot(1, 3, i+1)\n",
    "    sns.boxplot(data = main_dataframe, x = col)\n",
    "plt.show()"
   ]
  },
  {
   "cell_type": "code",
   "execution_count": null,
   "metadata": {},
   "outputs": [],
   "source": [
    "analise = sv.analyze(fraud_dataframe)\n",
    "analise.show_html('sweetviz.html')\n",
    "\n",
    "prof = ProfileReport(fraud_dataframe)\n",
    "prof.to_file(output_file='pandasprof.html')"
   ]
  },
  {
   "cell_type": "markdown",
   "metadata": {},
   "source": [
    "# KMEANS Algorithm"
   ]
  },
  {
   "cell_type": "markdown",
   "metadata": {},
   "source": [
    "### Definicoes"
   ]
  },
  {
   "cell_type": "code",
   "execution_count": null,
   "metadata": {},
   "outputs": [],
   "source": [
    "n_broad_clusters = range(2, 15)\n",
    "\n",
    "# treinamento KMeans\n",
    "max_iter = 10_000\n",
    "n_init = 100, \n",
    "random_state = 61658\n",
    "\n",
    "n_clusters = 4"
   ]
  },
  {
   "cell_type": "markdown",
   "metadata": {},
   "source": [
    "## Preparação dos dados para aplicação do KMEANS"
   ]
  },
  {
   "cell_type": "code",
   "execution_count": null,
   "metadata": {},
   "outputs": [],
   "source": [
    "grouped_mean_dataframe = fraud_dataframe.div(fraud_dataframe.sum(axis=1), axis='rows')\n",
    "grouped_mean_dataframe"
   ]
  },
  {
   "cell_type": "code",
   "execution_count": null,
   "metadata": {},
   "outputs": [],
   "source": [
    "clusters_distortion = []\n",
    "for n_clus in n_broad_clusters:\n",
    "    print(n_clus)\n",
    "    clusters_distortion.append(KMeans(n_clusters=n_clus, max_iter=max_iter, n_init=n_init, random_state=random_state).fit(grouped_mean_dataframe).inertia_ )"
   ]
  },
  {
   "cell_type": "code",
   "execution_count": null,
   "metadata": {},
   "outputs": [],
   "source": [
    "clusters_distortion"
   ]
  },
  {
   "cell_type": "markdown",
   "metadata": {},
   "source": [
    "## Método do Cotovelo"
   ]
  },
  {
   "cell_type": "code",
   "execution_count": null,
   "metadata": {},
   "outputs": [],
   "source": [
    "plt.figure(figsize=(15,5))\n",
    "plt.plot(n_broad_clusters, clusters_distortion)\n",
    "plt.grid()"
   ]
  },
  {
   "cell_type": "markdown",
   "metadata": {},
   "source": [
    "## Analise de clusters"
   ]
  },
  {
   "cell_type": "code",
   "execution_count": null,
   "metadata": {},
   "outputs": [],
   "source": [
    "km = KMeans(n_clusters=n_clusters, max_iter=max_iter, n_init=n_init, random_state=random_state)\n",
    "clusters_classes = km.fit_predict(grouped_mean_dataframe)\n",
    "clusters_classes"
   ]
  },
  {
   "cell_type": "code",
   "execution_count": null,
   "metadata": {},
   "outputs": [],
   "source": [
    "fraud_dataframe.loc[:, 'clus'] = x_t\n",
    "fraud_dataframe"
   ]
  },
  {
   "cell_type": "code",
   "execution_count": null,
   "metadata": {},
   "outputs": [],
   "source": [
    "for col in fraud_dataframe.drop( 'clus', axis=1) .columns: \n",
    "    for cl in np.sort(fraud_dataframe.clus.unique()):\n",
    "        if fraud_dataframe.dtypes[col] == object:\n",
    "            vc = 100*fraud_dataframe.loc[fraud_dataframe.clus==cl, col].value_counts() / (fraud_dataframe.clus==cl) . sum()\n",
    "            for cat, cnt in vc.reset_index().values:\n",
    "                print(f'{cl:d}; {col}_{str(cat):5}; {cnt:5.2f}%'.replace('.', ','))\n",
    "        else:\n",
    "            print(f'{cl:d}; {col}; {fraud_dataframe.loc[fraud_dataframe.clus==cl, col].mean(): .2f}'.replace('.', ','))\n",
    "\n",
    "for col in fraud_dataframe.drop( 'clus', axis=1).columns:\n",
    "    if fraud_dataframe.dtypes[col] == object:\n",
    "        vc = 100*fraud_dataframe.loc[:, col].value_counts() / (fraud_dataframe.shape[0])\n",
    "        for cat, cnt in vc.reset_index().values:\n",
    "            print(f'All; {col}_{str(cat):s}; {cnt:5.2f}%'.replace('.', ','))\n",
    "    else:\n",
    "        print(f'All; {col}; {fraud_dataframe.loc[:, col].mean():.2f}'.replace('.', ','))"
   ]
  },
  {
   "cell_type": "code",
   "execution_count": null,
   "metadata": {},
   "outputs": [],
   "source": [
    "pca = PCA(n_components=2)\n",
    "main_components = pca.fit_transform(fraud_dataframe)"
   ]
  },
  {
   "cell_type": "code",
   "execution_count": null,
   "metadata": {},
   "outputs": [],
   "source": [
    "# Agora, você tem os resultados do KMeans (clusters) e os principais componentes após a redução de dimensionalidade com PCA\n",
    "# Vamos plotar os resultados em um gráfico de dispersão\n",
    "\n",
    "plt.figure(figsize=(10, 6))\n",
    "\n",
    "# Plot os pontos dos dados após a redução de dimensionalidade, coloridos pelos clusters atribuídos pelo KMeans\n",
    "for i in range(n_clusters):\n",
    "    plt.scatter(main_components[x_t == i, 0], main_components[x_t == i, 1], label=f'Cluster {i}')\n",
    "\n",
    "plt.title('Resultados do KMeans com PCA para Bidimensionalização')\n",
    "plt.xlabel('Componente Principal 1')\n",
    "plt.ylabel('Componente Principal 2')\n",
    "plt.legend()\n",
    "plt.grid(True)\n",
    "plt.show()"
   ]
  },
  {
   "cell_type": "code",
   "execution_count": null,
   "metadata": {},
   "outputs": [],
   "source": [
    "plt.figure(figsize=(12, 8))\n",
    "\n",
    "for i in range(n_clusters):\n",
    "    plt.figure(figsize=(8, 6))\n",
    "    cluster_points = main_components[x_t == i]\n",
    "    plt.scatter(cluster_points[:, 0], cluster_points[:, 1], label=f'Cluster {i}')\n",
    "    plt.title(f'Cluster {i}')\n",
    "    plt.xlabel('Componente Principal 1')\n",
    "    plt.ylabel('Componente Principal 2')\n",
    "    plt.legend()\n",
    "    plt.grid(True)\n",
    "    plt.show()"
   ]
  },
  {
   "cell_type": "markdown",
   "metadata": {},
   "source": [
    "pca - reduzir dimensionalidade  \\/ mapa de calor com classes"
   ]
  }
 ],
 "metadata": {
  "kernelspec": {
   "display_name": "Python 3",
   "language": "python",
   "name": "python3"
  },
  "language_info": {
   "codemirror_mode": {
    "name": "ipython",
    "version": 3
   },
   "file_extension": ".py",
   "mimetype": "text/x-python",
   "name": "python",
   "nbconvert_exporter": "python",
   "pygments_lexer": "ipython3",
   "version": "3.11.9"
  }
 },
 "nbformat": 4,
 "nbformat_minor": 2
}
